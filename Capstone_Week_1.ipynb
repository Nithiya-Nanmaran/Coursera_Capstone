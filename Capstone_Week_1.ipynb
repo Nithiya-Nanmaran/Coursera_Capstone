{
 "cells": [
  {
   "cell_type": "markdown",
   "metadata": {},
   "source": [
    "# Understanding Tourism in India"
   ]
  },
  {
   "cell_type": "markdown",
   "metadata": {},
   "source": [
    "### Introduction"
   ]
  },
  {
   "cell_type": "markdown",
   "metadata": {},
   "source": [
    "Tourism in India is important for the country's economy and is growing rapidly. The Ministry of Tourism designs national policies for the development and promotion of tourism. The Ministry consults and collaborates with other stakeholders in the sector including various central ministries/agencies, state governments, union territories and private sector representatives. Concerted efforts are being made to promote niche tourism products such as rural, cruise, medical and eco-tourism.The Ministry of Tourism maintains the Incredible India campaign focused on promoting the tourism in India."
   ]
  },
  {
   "cell_type": "markdown",
   "metadata": {},
   "source": [
    "### Business Problem"
   ]
  },
  {
   "cell_type": "markdown",
   "metadata": {},
   "source": [
    "One of the importances of tourism is the employment opportunity which it offers to the people of that country. The purpose of this project is to analyze the tourist places of a given state in India and try to recommend the best location where they can open a restaurant or lodging to make the best use of the opportunity.\n",
    "\n",
    "This project helps the people who are interested in opening a restaurant, lodging, transport services."
   ]
  },
  {
   "cell_type": "markdown",
   "metadata": {},
   "source": [
    "### Data Source"
   ]
  },
  {
   "cell_type": "markdown",
   "metadata": {},
   "source": [
    "Districts in India wikipedia page: https://en.wikipedia.org/wiki/List_of_districts_in_India is the major source of data that is being used to obtain all the districts of India.\n",
    "\n",
    "Here, we are considering one of the states of India, __Tamil Nadu__.\n",
    "\n",
    "The beautifulsoup4 package, to scrape information from the web pages and convert it into a pandas dataframe. Then we use Python geopy package to get latitude and longitude for all the districts. Foursquare API is used to understand the neighbourhoods in the districts to give clear idea to the stakeholders."
   ]
  },
  {
   "cell_type": "code",
   "execution_count": 2,
   "metadata": {},
   "outputs": [],
   "source": [
    "import numpy as np # library to handle data in a vectorized manner\n",
    "from bs4 import BeautifulSoup\n",
    "import pandas as pd # library for data analsysis\n",
    "import requests # library to handle requests\n",
    "from geopy.geocoders import Nominatim"
   ]
  },
  {
   "cell_type": "markdown",
   "metadata": {},
   "source": [
    "Wikipedia URL"
   ]
  },
  {
   "cell_type": "code",
   "execution_count": 14,
   "metadata": {},
   "outputs": [],
   "source": [
    "URL = 'https://en.wikipedia.org/wiki/List_of_districts_of_Tamil_Nadu'"
   ]
  },
  {
   "cell_type": "markdown",
   "metadata": {},
   "source": [
    "Requesting and Getting response using the URL"
   ]
  },
  {
   "cell_type": "code",
   "execution_count": 15,
   "metadata": {},
   "outputs": [],
   "source": [
    "s = requests.Session()\n",
    "response = s.get(URL, timeout=10)"
   ]
  },
  {
   "cell_type": "markdown",
   "metadata": {},
   "source": [
    "Using HTML Parser to parse through the page's source code"
   ]
  },
  {
   "cell_type": "code",
   "execution_count": 16,
   "metadata": {},
   "outputs": [],
   "source": [
    "soup = BeautifulSoup(response.content, 'html.parser')\n",
    "pretty_soup = soup.prettify()"
   ]
  },
  {
   "cell_type": "markdown",
   "metadata": {},
   "source": [
    "Using the correct Class id to scrape the table"
   ]
  },
  {
   "cell_type": "code",
   "execution_count": 19,
   "metadata": {},
   "outputs": [],
   "source": [
    "table_ = soup.find('table', {\"class\":'wikitable sortable'})"
   ]
  },
  {
   "cell_type": "markdown",
   "metadata": {},
   "source": [
    "Extracting each row from the HTML file and storing it in the list"
   ]
  },
  {
   "cell_type": "code",
   "execution_count": 20,
   "metadata": {},
   "outputs": [],
   "source": [
    "list_row = []\n",
    "for row in table_.findAll(\"tr\"):\n",
    "    list_row.append(row)"
   ]
  },
  {
   "cell_type": "markdown",
   "metadata": {},
   "source": [
    "Creating a Dataframe to store the table values"
   ]
  },
  {
   "cell_type": "code",
   "execution_count": 52,
   "metadata": {},
   "outputs": [],
   "source": [
    "data = pd.DataFrame(columns = ['District', 'Code', 'Area', 'Population', 'Population_Density'])"
   ]
  },
  {
   "cell_type": "markdown",
   "metadata": {},
   "source": [
    "Filtering out only the table values and storing it in the DataFrame"
   ]
  },
  {
   "cell_type": "code",
   "execution_count": 53,
   "metadata": {},
   "outputs": [],
   "source": [
    "for i in range(1, len(list_row)):\n",
    "    data.loc[i, 'District'] = str(list_row[i]).split('\\n')[3].split('>')[2].split('<')[0]\n",
    "    data.loc[i, 'Code'] = str(list_row[i]).split('\\n')[5].split('>')[1]\n",
    "    if len(str(list_row[i]).split('\\n')[13].split('>')[1].split('<')) == 1:\n",
    "        data.loc[i, 'Area'] = str(list_row[i]).split('\\n')[13].split('>')[1]\n",
    "    else:\n",
    "        data.loc[i, 'Area'] = str(list_row[i]).split('\\n')[13].split('>')[1].split('<')[0]\n",
    "    data.loc[i, 'Population'] = str(list_row[i]).split('\\n')[15].split('>')[1]\n",
    "    data.loc[i, 'Population_Density'] = str(list_row[i]).split('\\n')[17].split('>')[1]"
   ]
  },
  {
   "cell_type": "code",
   "execution_count": 59,
   "metadata": {},
   "outputs": [],
   "source": [
    "data[\"Latitude\"] = \"\"\n",
    "data[\"Longitude\"] = \"\"\n",
    "for i in range(1, data.shape[0]):\n",
    "    geolocator = Nominatim(user_agent=\"my_user_agent\")\n",
    "    loc = geolocator.geocode(data.loc[i, 'District'])\n",
    "    data.loc[i, 'Latitude'] = loc.latitude\n",
    "    data.loc[i, 'Longitude'] = loc.longitude"
   ]
  },
  {
   "cell_type": "code",
   "execution_count": 71,
   "metadata": {},
   "outputs": [
    {
     "data": {
      "text/html": [
       "<div>\n",
       "<style scoped>\n",
       "    .dataframe tbody tr th:only-of-type {\n",
       "        vertical-align: middle;\n",
       "    }\n",
       "\n",
       "    .dataframe tbody tr th {\n",
       "        vertical-align: top;\n",
       "    }\n",
       "\n",
       "    .dataframe thead th {\n",
       "        text-align: right;\n",
       "    }\n",
       "</style>\n",
       "<table border=\"1\" class=\"dataframe\">\n",
       "  <thead>\n",
       "    <tr style=\"text-align: right;\">\n",
       "      <th></th>\n",
       "      <th>District</th>\n",
       "      <th>Code</th>\n",
       "      <th>Area</th>\n",
       "      <th>Population</th>\n",
       "      <th>Population_Density</th>\n",
       "      <th>Latitude</th>\n",
       "      <th>Longitude</th>\n",
       "    </tr>\n",
       "  </thead>\n",
       "  <tbody>\n",
       "    <tr>\n",
       "      <td>1</td>\n",
       "      <td>Ariyalur</td>\n",
       "      <td>AR</td>\n",
       "      <td>1949.31</td>\n",
       "      <td>754,894</td>\n",
       "      <td>390</td>\n",
       "      <td>11.076</td>\n",
       "      <td>79.117455</td>\n",
       "    </tr>\n",
       "    <tr>\n",
       "      <td>2</td>\n",
       "      <td>Chengalpattu</td>\n",
       "      <td>CGL</td>\n",
       "      <td>2,944.96</td>\n",
       "      <td>2,556,244</td>\n",
       "      <td>868</td>\n",
       "      <td>12.6841</td>\n",
       "      <td>79.983637</td>\n",
       "    </tr>\n",
       "    <tr>\n",
       "      <td>3</td>\n",
       "      <td>Chennai</td>\n",
       "      <td>CH</td>\n",
       "      <td>426</td>\n",
       "      <td>4,646,732</td>\n",
       "      <td>26,076</td>\n",
       "      <td>13.0837</td>\n",
       "      <td>80.270186</td>\n",
       "    </tr>\n",
       "    <tr>\n",
       "      <td>4</td>\n",
       "      <td>Coimbatore</td>\n",
       "      <td>CO</td>\n",
       "      <td>4,723</td>\n",
       "      <td>3,458,045</td>\n",
       "      <td>732</td>\n",
       "      <td>11.0018</td>\n",
       "      <td>76.962842</td>\n",
       "    </tr>\n",
       "    <tr>\n",
       "      <td>5</td>\n",
       "      <td>Cuddalore</td>\n",
       "      <td>CU</td>\n",
       "      <td>3,703</td>\n",
       "      <td>2,605,914</td>\n",
       "      <td>709</td>\n",
       "      <td>11.7564</td>\n",
       "      <td>79.763464</td>\n",
       "    </tr>\n",
       "  </tbody>\n",
       "</table>\n",
       "</div>"
      ],
      "text/plain": [
       "       District Code      Area Population Population_Density Latitude  \\\n",
       "1      Ariyalur   AR   1949.31    754,894                390   11.076   \n",
       "2  Chengalpattu  CGL  2,944.96  2,556,244                868  12.6841   \n",
       "3       Chennai   CH       426  4,646,732             26,076  13.0837   \n",
       "4    Coimbatore   CO     4,723  3,458,045                732  11.0018   \n",
       "5     Cuddalore   CU     3,703  2,605,914                709  11.7564   \n",
       "\n",
       "   Longitude  \n",
       "1  79.117455  \n",
       "2  79.983637  \n",
       "3  80.270186  \n",
       "4  76.962842  \n",
       "5  79.763464  "
      ]
     },
     "execution_count": 71,
     "metadata": {},
     "output_type": "execute_result"
    }
   ],
   "source": [
    "data.head()"
   ]
  },
  {
   "cell_type": "code",
   "execution_count": null,
   "metadata": {},
   "outputs": [],
   "source": []
  }
 ],
 "metadata": {
  "kernelspec": {
   "display_name": "Python 3",
   "language": "python",
   "name": "python3"
  },
  "language_info": {
   "codemirror_mode": {
    "name": "ipython",
    "version": 3
   },
   "file_extension": ".py",
   "mimetype": "text/x-python",
   "name": "python",
   "nbconvert_exporter": "python",
   "pygments_lexer": "ipython3",
   "version": "3.7.4"
  }
 },
 "nbformat": 4,
 "nbformat_minor": 2
}
